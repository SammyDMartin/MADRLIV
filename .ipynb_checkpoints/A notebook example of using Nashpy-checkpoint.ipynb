{
 "cells": [
  {
   "cell_type": "markdown",
   "metadata": {},
   "source": [
    "## Installing Nashpy\n",
    "\n",
    "If you want to install [Nashpy](https://github.com/drvinceknight/Nashpy), I recommend the following:\n",
    "\n",
    "1. Use the Anaconda distribution of Python (this works well on Windows)\n",
    "2. Open a terminal (Mac OSX) or a command prompt (Windows) and type: `pip install nashpy`\n",
    "\n",
    "Once you have done that succsefully you should be able to `import nash` in Python to import the library."
   ]
  },
  {
   "cell_type": "markdown",
   "metadata": {},
   "source": [
    "In the cell below I am importing the library and checking the version."
   ]
  },
  {
   "cell_type": "code",
   "execution_count": 1,
   "metadata": {},
   "outputs": [
    {
     "data": {
      "text/plain": [
       "'0.0.19'"
      ]
     },
     "execution_count": 1,
     "metadata": {},
     "output_type": "execute_result"
    }
   ],
   "source": [
    "import nashpy as nash\n",
    "import numpy as np\n",
    "import sympy as sym\n",
    "sym.init_printing()\n",
    "nash.__version__"
   ]
  },
  {
   "cell_type": "markdown",
   "metadata": {},
   "source": [
    "## Computing equilibria"
   ]
  },
  {
   "cell_type": "markdown",
   "metadata": {},
   "source": [
    "Let us use Nashpy to study the battle of the sexes game:\n",
    "\n",
    "\n",
    "$$\n",
    "A = \n",
    "\\begin{pmatrix}\n",
    "2 & 0\\\\\n",
    "1 & 3\n",
    "\\end{pmatrix}\n",
    "$$\n",
    "\n",
    "\n",
    "$$\n",
    "B = \n",
    "\\begin{pmatrix}\n",
    "3 & 0\\\\\n",
    "1 & 2\n",
    "\\end{pmatrix}\n",
    "$$"
   ]
  },
  {
   "cell_type": "code",
   "execution_count": 63,
   "metadata": {},
   "outputs": [
    {
     "data": {
      "text/plain": [
       "Bi matrix game with payoff matrices:\n",
       "\n",
       "Row player:\n",
       "[[-1000000000           0]\n",
       " [-3000000000 -2000000000]]\n",
       "\n",
       "Column player:\n",
       "[[2 0]\n",
       " [3 1]]"
      ]
     },
     "execution_count": 63,
     "metadata": {},
     "output_type": "execute_result"
    }
   ],
   "source": [
    "#Prisoners dilemma\n",
    "A = np.array([[-1000000000, 0], [-3000000000, -2000000000]])\n",
    "B = np.array([[2, 0], [3, 1]])\n",
    "\n",
    "#B = A.T\n",
    "\n",
    "g = nash.Game(A, B)\n",
    "g"
   ]
  },
  {
   "cell_type": "markdown",
   "metadata": {},
   "source": [
    "We can obtain the Nash equilibria for this game:"
   ]
  },
  {
   "cell_type": "code",
   "execution_count": 64,
   "metadata": {},
   "outputs": [
    {
     "data": {
      "text/plain": [
       "[(array([1., 0.]), array([1., 0.]))]"
      ]
     },
     "execution_count": 64,
     "metadata": {},
     "output_type": "execute_result"
    }
   ],
   "source": [
    "eq = list(g.support_enumeration())\n",
    "eq"
   ]
  },
  {
   "cell_type": "markdown",
   "metadata": {},
   "source": [
    "We see that we have 3 equilibria: 2 pure, where the players coordinate and 1 mixed where the players don't.\n",
    "\n",
    "We can see the utility obtained by each player at each equilibria:\n",
    "\n",
    "- For the row player: $s_1 A s_2$\n",
    "- For the column player: $s_1 B s_2$"
   ]
  },
  {
   "cell_type": "code",
   "execution_count": 59,
   "metadata": {},
   "outputs": [
    {
     "name": "stdout",
     "output_type": "stream",
     "text": [
      "-3000000000.0 2.0\n"
     ]
    }
   ],
   "source": [
    "for s1, s2 in eq:\n",
    "    row_util = np.dot(np.dot(s1, A), s2)\n",
    "    col_util = np.dot(np.dot(s1, B), s2)\n",
    "    print(row_util, col_util)"
   ]
  },
  {
   "cell_type": "markdown",
   "metadata": {},
   "source": [
    "## Numerical experiment"
   ]
  },
  {
   "cell_type": "markdown",
   "metadata": {},
   "source": [
    "Let us investigate the effect of the parameters on the mixed equilibria. The general form of a Battle of the sexes game is:\n",
    "\n",
    "$$\n",
    "A = \n",
    "\\begin{pmatrix}\n",
    "a_{11} & a_{12}\\\\\n",
    "a_{21} & a_{22}\n",
    "\\end{pmatrix}\n",
    "$$\n",
    "\n",
    "$$\n",
    "B = \n",
    "\\begin{pmatrix}\n",
    "b_{11} & b_{12}\\\\\n",
    "b_{21} & b_{22}\n",
    "\\end{pmatrix}\n",
    "$$\n",
    "\n",
    "with:\n",
    "\n",
    "$$\\min(a_{11}, a_{22}) > \\max(a_{12}, a_{21})$$ \n",
    "$$\\min(b_{11}, b_{22}) > \\max(b_{12}, b_{21})$$ \n",
    "\n",
    "(The \"worse\" coordinated outcome is better than the \"best\" uncoordinated outcome.)\n",
    "\n",
    "Let us use a Numpy array to create a random battle of the sexes game with $0\\leq a_{ij},b_{ij}\\leq 1$."
   ]
  },
  {
   "cell_type": "code",
   "execution_count": 65,
   "metadata": {},
   "outputs": [],
   "source": [
    "def is_battle(A):\n",
    "    \"\"\"Checks if a numpy array is a battle of the sexes game\"\"\"\n",
    "    return min(A[0, 0], A[1, 1]) >= max(A[0, 1], A[1, 0])\n",
    "\n",
    "def is_PD(A):\n",
    "    \"\"\"Checks if a numpy array is a battle of the sexes game\"\"\"\n",
    "    return (A[1,0]>A[0,0]>A[1,1]>A[0,1])\n",
    "def is_PDD(A):\n",
    "    return (A[0,1]>A[0,0]>A[1,1]>A[1,0])\n",
    "\n",
    "def random_battle(seed=0):\n",
    "    \"\"\"Repeatedly sample random matrices until we have a battle of the sexes game\"\"\"\n",
    "    np.random.seed(0)\n",
    "    A = np.random.random((2, 2))\n",
    "    B = np.random.random((2, 2))\n",
    "    while not is_PD(A) or not is_PD(B):\n",
    "        A = np.random.random((2, 2))\n",
    "        B = np.random.random((2, 2))\n",
    "    return nash.Game(A, B)"
   ]
  },
  {
   "cell_type": "code",
   "execution_count": 66,
   "metadata": {},
   "outputs": [
    {
     "data": {
      "text/plain": [
       "Bi matrix game with payoff matrices:\n",
       "\n",
       "Row player:\n",
       "[[0.69947928 0.29743695]\n",
       " [0.81379782 0.39650574]]\n",
       "\n",
       "Column player:\n",
       "[[0.8811032  0.58127287]\n",
       " [0.88173536 0.69253159]]"
      ]
     },
     "execution_count": 66,
     "metadata": {},
     "output_type": "execute_result"
    }
   ],
   "source": [
    "random_battle()"
   ]
  },
  {
   "cell_type": "markdown",
   "metadata": {},
   "source": [
    "First of all let's see how many equilibria these games have:"
   ]
  },
  {
   "cell_type": "code",
   "execution_count": 67,
   "metadata": {},
   "outputs": [],
   "source": [
    "list_of_eqs = []\n",
    "N = 1000\n",
    "for seed in range(N):\n",
    "    g = random_battle(seed)\n",
    "    list_of_eqs.append(list(g.support_enumeration()))"
   ]
  },
  {
   "cell_type": "code",
   "execution_count": 68,
   "metadata": {},
   "outputs": [
    {
     "data": {
      "image/png": "[encoded data removed]",
      "text/latex": [
       "$\\displaystyle \\left( 1, \\  1\\right)$"
      ],
      "text/plain": [
       "(1, 1)"
      ]
     },
     "execution_count": 68,
     "metadata": {},
     "output_type": "execute_result"
    }
   ],
   "source": [
    "min(map(len, list_of_eqs)), max(map(len, list_of_eqs))"
   ]
  },
  {
   "cell_type": "markdown",
   "metadata": {},
   "source": [
    "We see that we have in all cases 3 equilibria. Let us test if one of them is always mixed."
   ]
  },
  {
   "cell_type": "code",
   "execution_count": 69,
   "metadata": {},
   "outputs": [],
   "source": [
    "def is_mixed(eq):\n",
    "    s1, s2 = eq\n",
    "    return max(s1) != 1 or max(s2) != 1"
   ]
  },
  {
   "cell_type": "markdown",
   "metadata": {},
   "source": [
    "Let us make sure that's working correctly, by checking the first equilibria from our experiment:"
   ]
  },
  {
   "cell_type": "code",
   "execution_count": 70,
   "metadata": {},
   "outputs": [
    {
     "data": {
      "text/plain": [
       "[(array([0., 1.]), array([1., 0.]))]"
      ]
     },
     "execution_count": 70,
     "metadata": {},
     "output_type": "execute_result"
    }
   ],
   "source": [
    "eqs = list_of_eqs[0]\n",
    "eqs"
   ]
  },
  {
   "cell_type": "code",
   "execution_count": 11,
   "metadata": {},
   "outputs": [
    {
     "name": "stdout",
     "output_type": "stream",
     "text": [
      "False\n",
      "False\n",
      "True\n"
     ]
    }
   ],
   "source": [
    "for strategies in eqs:\n",
    "    print(is_mixed(strategies))"
   ]
  },
  {
   "cell_type": "markdown",
   "metadata": {},
   "source": [
    "Let us check that all or equilibria have a mixed Nash equilibria:"
   ]
  },
  {
   "cell_type": "code",
   "execution_count": 12,
   "metadata": {},
   "outputs": [
    {
     "data": {
      "text/plain": [
       "True"
      ]
     },
     "execution_count": 12,
     "metadata": {},
     "output_type": "execute_result"
    }
   ],
   "source": [
    "all(any(is_mixed(strategies) for strategies in eqs) for eqs in list_of_eqs)"
   ]
  },
  {
   "cell_type": "markdown",
   "metadata": {},
   "source": [
    "## Analytical analysis"
   ]
  },
  {
   "cell_type": "markdown",
   "metadata": {},
   "source": [
    "We can verify this mathematically of course.\n",
    "\n",
    "Using a simple verification of best responses it is immediate to note that the following strateg pair is always an equilibria:\n",
    "\n",
    "$$\n",
    "s_1 = (1, 0)\n",
    "$$\n",
    "\n",
    "$$\n",
    "s_2 = (1, 0)\n",
    "$$\n",
    "\n",
    "Similarly for:\n",
    "\n",
    "$$\n",
    "s_1 = (0, 1)\n",
    "$$\n",
    "\n",
    "$$\n",
    "s_2 = (0, 1)\n",
    "$$\n",
    "\n",
    "We will now obtain the mixed Nash equilibria that always exists. Let us assume that:\n",
    "\n",
    "$$\n",
    "s_1 = (x, 1 - x)\n",
    "$$\n",
    "\n",
    "$$\n",
    "s_2 = (y, 1 - y)\n",
    "$$\n",
    "\n",
    "Using the equality of payoffs we know that these must satisfy:\n",
    "\n",
    "$$\n",
    "y(b_{11} - b_{12}) + b_{12} = y(b_{21} - b_{22}) + b_{22}\n",
    "$$\n",
    "\n",
    "and:\n",
    "\n",
    "$$\n",
    "x(a_{11} - a_{21}) + b_{21} = x(a_{12} - a_{22}) + a_{22}\n",
    "$$\n",
    "\n",
    "Let us use Sympy to obtain the solutions to these equations (which would of course be easy to do algebraically)."
   ]
  },
  {
   "cell_type": "code",
   "execution_count": 13,
   "metadata": {},
   "outputs": [],
   "source": [
    "x, y  = sym.symbols('x, y')\n",
    "a_11, a_12, a_21, a_22 = sym.symbols('a_11. a_12, a_21, a_22')\n",
    "b_11, b_12, b_21, b_22 = sym.symbols('b_11, b_12, b_21, b_22')"
   ]
  },
  {
   "cell_type": "code",
   "execution_count": 14,
   "metadata": {},
   "outputs": [
    {
     "data": {
      "image/png": "[encoded data removed]",
      "text/latex": [
       "$\\displaystyle \\left\\{- \\frac{b_{12} - b_{22}}{b_{11} - b_{12} - b_{21} + b_{22}}\\right\\}$"
      ],
      "text/plain": [
       "⎧    -(b₁₂ - b₂₂)     ⎫\n",
       "⎨─────────────────────⎬\n",
       "⎩b₁₁ - b₁₂ - b₂₁ + b₂₂⎭"
      ]
     },
     "execution_count": 14,
     "metadata": {},
     "output_type": "execute_result"
    }
   ],
   "source": [
    "sym.solveset(y * (b_11 - b_12) + b_12 - y * (b_21 - b_22) - b_22, y)"
   ]
  },
  {
   "cell_type": "code",
   "execution_count": 15,
   "metadata": {},
   "outputs": [
    {
     "data": {
      "image/png": "[encoded data removed]",
      "text/latex": [
       "$\\displaystyle \\left\\{\\frac{a_{21} - a_{22}}{- a_{11.} + a_{12} + a_{21} - a_{22}}\\right\\}$"
      ],
      "text/plain": [
       "⎧       a₂₁ - a₂₂        ⎫\n",
       "⎨────────────────────────⎬\n",
       "⎩-a_11. + a₁₂ + a₂₁ - a₂₂⎭"
      ]
     },
     "execution_count": 15,
     "metadata": {},
     "output_type": "execute_result"
    }
   ],
   "source": [
    "sym.solveset(x * (a_11 - a_21) + a_21 - x * (a_12 - a_22) - a_22, x)"
   ]
  },
  {
   "cell_type": "markdown",
   "metadata": {},
   "source": [
    "We see that as:\n",
    "\n",
    "$$\\min(a_{11}, a_{22}) > \\max(a_{12}, a_{21})$$ \n",
    "$$\\min(b_{11}, b_{22}) > \\max(b_{12}, b_{21})$$ \n",
    "\n",
    "the above expressions are between 0 and 1 (thus a valid probability)."
   ]
  }
 ],
 "metadata": {
  "anaconda-cloud": {},
  "kernelspec": {
   "display_name": "Python 3",
   "language": "python",
   "name": "python3"
  },
  "language_info": {
   "codemirror_mode": {
    "name": "ipython",
    "version": 3
   },
   "file_extension": ".py",
   "mimetype": "text/x-python",
   "name": "python",
   "nbconvert_exporter": "python",
   "pygments_lexer": "ipython3",
   "version": "3.7.6"
  }
 },
 "nbformat": 4,
 "nbformat_minor": 1
}
